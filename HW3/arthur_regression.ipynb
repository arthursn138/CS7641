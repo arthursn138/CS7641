{
 "cells": [
  {
   "cell_type": "code",
   "execution_count": 4,
   "metadata": {},
   "outputs": [],
   "source": [
    "import numpy as np\n",
    "from typing import Tuple, List"
   ]
  },
  {
   "cell_type": "code",
   "execution_count": 92,
   "metadata": {},
   "outputs": [
    {
     "name": "stdout",
     "output_type": "stream",
     "text": [
      "[[[   1.    1.]\n",
      "  [   2.    3.]\n",
      "  [   4.    9.]\n",
      "  [   8.   27.]]\n",
      "\n",
      " [[   1.    1.]\n",
      "  [   5.    7.]\n",
      "  [  25.   49.]\n",
      "  [ 125.  343.]]\n",
      "\n",
      " [[   1.    1.]\n",
      "  [   9.   10.]\n",
      "  [  81.  100.]\n",
      "  [ 729. 1000.]]]\n"
     ]
    }
   ],
   "source": [
    "### regression\n",
    "\n",
    "pred = np.array([[2.31017402],\n",
    " [ 0.55389674],\n",
    " [-0.67719378],\n",
    " [-1.38309755],\n",
    " [-1.56381456],\n",
    " [-1.21934482],\n",
    " [-0.34968832],\n",
    " [1.04515494],\n",
    " [2.96518495]])\n",
    "\n",
    "label = np.array([[ 2.93151],\n",
    " [-0.16618882],\n",
    " [-0.41168219],\n",
    " [-1.27454902],\n",
    " [-1.55952313],\n",
    " [-1.39394503],\n",
    " [0.08333787],\n",
    " [2.24819231],\n",
    " [2.00011928]])\n",
    "\n",
    "\n",
    "## rmse\n",
    "N = pred.shape\n",
    "np.sqrt(np.sum(np.square(pred - label))/N)\n",
    "\n",
    "## construct_polynomial_feats\n",
    "N, D = 4, 2\n",
    "\n",
    "x = np.array([[2, 3], [5, 7], [9, 10]])\n",
    "\n",
    "degree = 3\n",
    "N, D = x.shape\n",
    "feat = np.zeros((N, degree+1, D))\n",
    "feat[:,0,:] = np.ones(D)\n",
    "# print(feat)\n",
    "\n",
    "for i in np.arange(N):\n",
    "    feat[i,1:,:] = x[i]\n",
    "    for j in np.arange(degree)+1:\n",
    "        feat[i,j,:] = x[i] ** j\n",
    "\n",
    "print(feat)\n"
   ]
  }
 ],
 "metadata": {
  "kernelspec": {
   "display_name": "ml_hw3",
   "language": "python",
   "name": "python3"
  },
  "language_info": {
   "codemirror_mode": {
    "name": "ipython",
    "version": 3
   },
   "file_extension": ".py",
   "mimetype": "text/x-python",
   "name": "python",
   "nbconvert_exporter": "python",
   "pygments_lexer": "ipython3",
   "version": "3.10.9"
  },
  "orig_nbformat": 4,
  "vscode": {
   "interpreter": {
    "hash": "3875f29b9cd52851b3af43528dddd25d8f92f8fda244b4032f60f2da66d531ae"
   }
  }
 },
 "nbformat": 4,
 "nbformat_minor": 2
}
