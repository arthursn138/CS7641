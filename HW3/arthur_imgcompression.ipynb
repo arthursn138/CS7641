{
 "cells": [
  {
   "cell_type": "code",
   "execution_count": 1,
   "metadata": {},
   "outputs": [],
   "source": [
    "import numpy as np\n",
    "from typing import Tuple"
   ]
  },
  {
   "cell_type": "code",
   "execution_count": 58,
   "metadata": {},
   "outputs": [
    {
     "name": "stdout",
     "output_type": "stream",
     "text": [
      "A: \n",
      " [[0 1 2]\n",
      " [3 4 5]\n",
      " [6 7 8]] \n",
      "\n",
      "B: \n",
      " [[[ 0  1  2]\n",
      "  [ 3  4  5]\n",
      "  [ 6  7  8]]\n",
      "\n",
      " [[ 0  1  2]\n",
      "  [ 3  4  5]\n",
      "  [ 6  7  8]]\n",
      "\n",
      " [[ 0  1  2]\n",
      "  [ 3  4  5]\n",
      "  [ 6  7 19]]] \n",
      "\n"
     ]
    },
    {
     "data": {
      "text/plain": [
       "array([[[1., 0., 0.],\n",
       "        [0., 1., 0.],\n",
       "        [0., 0., 1.]],\n",
       "\n",
       "       [[1., 0., 0.],\n",
       "        [0., 1., 0.],\n",
       "        [0., 0., 1.]],\n",
       "\n",
       "       [[1., 0., 0.],\n",
       "        [0., 1., 0.],\n",
       "        [0., 0., 1.]]])"
      ]
     },
     "execution_count": 58,
     "metadata": {},
     "output_type": "execute_result"
    }
   ],
   "source": [
    "### Image compression (imgcompression)\n",
    "\n",
    "A = np.random.rand(7,5)\n",
    "B = np.random.rand(4,7,5)\n",
    "\n",
    "A = np.arange(9).reshape((3,3))\n",
    "B = np.array((A, A, A))\n",
    "B[2,2,2] = 19\n",
    "\n",
    "print(f\"A: \\n {A} \\n\")\n",
    "print(f\"B: \\n {B} \\n\")\n",
    "\n",
    "## SVD\n",
    "u, s, vh = np.linalg.svd(A, full_matrices=True)\n",
    "\n",
    "# print(f\"U: \\n {u} \\n\")\n",
    "# print(f\"Sigma: \\n {s} \\n\")\n",
    "# print(f\"V: \\n {vh.T} \\n\")\n",
    "\n",
    "## compress\n",
    "k = 3\n",
    "reduced = B[0:k]\n",
    "# print(reduced)\n",
    "reduced.shape\n",
    "# s[0:k]\n",
    "# vh[0:k]\n",
    "B.ndim\n",
    "\n",
    "## rebuild_svd\n",
    "np.array((np.eye(3,3), np.ones((3,3)), np.eye(3,3))) @ B\n",
    "\n",
    "np.matmul(np.array((np.eye(3,3), np.ones((3,3)), np.eye(3,3))), B)\n",
    "\n",
    "ss = np.array((2.5, 37, 0))\n",
    "np.eye(3, 4, 4)\n",
    "np.array((np.eye(k, k), np.eye(k, k), np.eye(k, k)))"
   ]
  }
 ],
 "metadata": {
  "kernelspec": {
   "display_name": "ml_hw3",
   "language": "python",
   "name": "python3"
  },
  "language_info": {
   "codemirror_mode": {
    "name": "ipython",
    "version": 3
   },
   "file_extension": ".py",
   "mimetype": "text/x-python",
   "name": "python",
   "nbconvert_exporter": "python",
   "pygments_lexer": "ipython3",
   "version": "3.10.9"
  },
  "orig_nbformat": 4
 },
 "nbformat": 4,
 "nbformat_minor": 2
}
