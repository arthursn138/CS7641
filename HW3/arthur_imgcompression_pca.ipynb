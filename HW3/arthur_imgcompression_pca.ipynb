{
 "cells": [
  {
   "cell_type": "code",
   "execution_count": 3,
   "metadata": {},
   "outputs": [],
   "source": [
    "import numpy as np\n",
    "from typing import Tuple\n",
    "import pandas as pd\n",
    "import matplotlib\n",
    "from matplotlib import pyplot as plt\n",
    "from sklearn.feature_extraction import text\n",
    "from sklearn.datasets import load_diabetes, load_breast_cancer, load_iris\n",
    "from sklearn.linear_model import LogisticRegression\n",
    "from sklearn.model_selection import train_test_split\n",
    "from sklearn.metrics import mean_squared_error, accuracy_score\n",
    "import warnings\n",
    "import sys\n",
    "\n",
    "%matplotlib inline\n",
    "%load_ext autoreload\n",
    "%autoreload 2"
   ]
  },
  {
   "cell_type": "code",
   "execution_count": 4,
   "metadata": {},
   "outputs": [
    {
     "name": "stdout",
     "output_type": "stream",
     "text": [
      "True\n",
      "[[0 1 2]\n",
      " [3 4 5]\n",
      " [6 7 8]]\n"
     ]
    },
    {
     "data": {
      "text/plain": [
       "array([ 3, 12, 21])"
      ]
     },
     "execution_count": 4,
     "metadata": {},
     "output_type": "execute_result"
    }
   ],
   "source": [
    "### Image compression (imgcompression)\n",
    "\n",
    "A = np.random.rand(7,5)\n",
    "B = np.random.rand(4,7,5)\n",
    "\n",
    "A = np.arange(9).reshape((3,3))\n",
    "B = np.array((A, A, A))\n",
    "B[2,2,2] = 19\n",
    "\n",
    "# # print(f\"A: \\n {A} \\n\")\n",
    "# # print(f\"B: \\n {B} \\n\")\n",
    "\n",
    "## SVD\n",
    "u, s, vh = np.linalg.svd(A, full_matrices=True)\n",
    "\n",
    "# print(f\"U: \\n {u} \\n\")\n",
    "# print(f\"Sigma: \\n {s} \\n\")\n",
    "# print(f\"V: \\n {vh.T} \\n\")\n",
    "\n",
    "## compress\n",
    "k = 3\n",
    "reduced = B[0:k]\n",
    "# print(reduced)\n",
    "reduced.shape\n",
    "# s[0:k]\n",
    "# vh[0:k]\n",
    "B.ndim\n",
    "\n",
    "## rebuild_svd\n",
    "np.array((np.eye(3,3), np.ones((3,3)), np.eye(3,3))) @ B\n",
    "\n",
    "np.matmul(np.array((np.eye(3,3), np.ones((3,3)), np.eye(3,3))), B)\n",
    "\n",
    "ss = np.array((2.5, 37, 0))\n",
    "np.eye(3, 4, 4)\n",
    "np.array((np.eye(k, k), np.eye(k, k), np.eye(k, k)))\n",
    "\n",
    "## recovered_variance_proportion\n",
    "AA = np.hstack((np.vstack((A, A)), np.vstack((A, A))))\n",
    "_, S, _ = np.linalg.svd(AA, full_matrices=True)\n",
    "varS = np.sum(np.square(S))\n",
    "vars = np.sum(np.square(s))\n",
    "\n",
    "# print(varS)\n",
    "# print(vars)\n",
    "\n",
    "B[2,2,2] = 8\n",
    "_, SB, _ = np.linalg.svd(B)\n",
    "sums = np.sum(B)\n",
    "a = 1+2+3+4+5+6+7+8\n",
    "print(a*3 == sums)\n",
    "\n",
    "print(A)\n",
    "np.sum(A, axis=1)"
   ]
  },
  {
   "cell_type": "code",
   "execution_count": 72,
   "metadata": {},
   "outputs": [
    {
     "name": "stdout",
     "output_type": "stream",
     "text": [
      "(150, 2)\n"
     ]
    },
    {
     "data": {
      "text/plain": [
       "['0', '1', '2']"
      ]
     },
     "execution_count": 72,
     "metadata": {},
     "output_type": "execute_result"
    },
    {
     "data": {
      "image/png": "[encoded data removed]",
      "text/plain": [
       "<Figure size 640x480 with 1 Axes>"
      ]
     },
     "metadata": {},
     "output_type": "display_data"
    }
   ],
   "source": [
    "### PCA\n",
    "\n",
    "## fit\n",
    "means = np.mean(A, axis=0)\n",
    "A-means\n",
    "\n",
    "## transform\n",
    "data = np.array([[6., 3., 7.],\n",
    "\t\t\t\t\t\t       [4., 6., 2.],\n",
    "\t\t\t\t\t\t       [6., 7., 4.],\n",
    "\t\t\t\t\t\t       [3., 7., 7.],\n",
    "\t\t\t\t\t\t       [2., 5., 4.]])\n",
    "# # selfV = np.array([[-0.32657375,  0.42692645, -0.84325761],\n",
    "# #  [ 0.86290603, -0.2293747,  -0.45031149],\n",
    "# #  [-0.38567185, -0.87471198, -0.29348965]])\n",
    "\n",
    "centered = data - data.mean(axis=0)\n",
    "U, S ,V = np.linalg.svd(centered, full_matrices=False)\n",
    "\n",
    "# Retain 2 first eigenvectors of Vt\n",
    "V2 = (V[:2, :])\n",
    "\n",
    "np.dot(centered, V2.T)\n",
    "\n",
    "## transform_rv\n",
    "rv = 0.99\n",
    "covX = np.cov(centered.T)\n",
    "sum_col = covX.sum(axis=1)\n",
    "# print(S, np.sum(S))\n",
    "# print(S[0]/np.sum(S), '\\n', S[1]/np.sum(S), '\\n', S[2]/np.sum(S))\n",
    "\n",
    "\n",
    "## visualize\n",
    "from pca import PCA\n",
    "iris_data = load_iris(return_X_y=True)\n",
    "X = iris_data[0]\n",
    "y = iris_data[1]\n",
    "\n",
    "X_new = PCA().transform(X, 2)\n",
    "print(X_new.shape)\n",
    "\n",
    "t = np.linspace(0, 150, 150, endpoint=False)\n",
    "\n",
    "# #========================\n",
    "# fig = plt.figure()\n",
    "# plt.title('Iris Dataset with Dimensionality Reduction')\n",
    "# plt.xlabel(\"Feature 1\")\n",
    "# plt.ylabel(\"Feature 2\")\n",
    "# PCA().visualize(X,y,fig)\n",
    "# #========================\n",
    "\n",
    "plt.scatter(X_new[:,0], X_new[:,1], c=\"blue\", marker=\"x\")\n",
    "list = [str(np.unique(y)[0]), str(np.unique(y)[1]), str(np.unique(y)[2])]\n",
    "list"
   ]
  }
 ],
 "metadata": {
  "kernelspec": {
   "display_name": "ml_hw3",
   "language": "python",
   "name": "python3"
  },
  "language_info": {
   "codemirror_mode": {
    "name": "ipython",
    "version": 3
   },
   "file_extension": ".py",
   "mimetype": "text/x-python",
   "name": "python",
   "nbconvert_exporter": "python",
   "pygments_lexer": "ipython3",
   "version": "3.10.9"
  },
  "orig_nbformat": 4,
  "vscode": {
   "interpreter": {
    "hash": "3875f29b9cd52851b3af43528dddd25d8f92f8fda244b4032f60f2da66d531ae"
   }
  }
 },
 "nbformat": 4,
 "nbformat_minor": 2
}
