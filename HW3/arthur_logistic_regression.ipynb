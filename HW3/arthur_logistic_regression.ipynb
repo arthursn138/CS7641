{
 "cells": [
  {
   "cell_type": "code",
   "execution_count": 2,
   "metadata": {},
   "outputs": [],
   "source": [
    "import numpy as np\n",
    "import matplotlib.pyplot as plt\n",
    "from typing import Tuple, List"
   ]
  },
  {
   "cell_type": "code",
   "execution_count": 33,
   "metadata": {},
   "outputs": [
    {
     "data": {
      "text/plain": [
       "3"
      ]
     },
     "execution_count": 33,
     "metadata": {},
     "output_type": "execute_result"
    }
   ],
   "source": [
    "## bias_augment\n",
    "a = np.ones((3,3))\n",
    "z = np.zeros(3)\n",
    "np.insert(a, 2, 99, axis=1)\n",
    "\n",
    "## predict_labels\n",
    "hx = np.array([[0.94153886], [0.12065534], [0.89612208]])\n",
    "hpred = np.where(hx > 0.5, hx, 1)\n",
    "hpred\n",
    "\n",
    "## accuracy\n",
    "np.count_nonzero(a)\n",
    "\n",
    "## fit\n",
    "10 % 7"
   ]
  }
 ],
 "metadata": {
  "kernelspec": {
   "display_name": "ml_hw3",
   "language": "python",
   "name": "python3"
  },
  "language_info": {
   "codemirror_mode": {
    "name": "ipython",
    "version": 3
   },
   "file_extension": ".py",
   "mimetype": "text/x-python",
   "name": "python",
   "nbconvert_exporter": "python",
   "pygments_lexer": "ipython3",
   "version": "3.10.9"
  },
  "orig_nbformat": 4,
  "vscode": {
   "interpreter": {
    "hash": "3875f29b9cd52851b3af43528dddd25d8f92f8fda244b4032f60f2da66d531ae"
   }
  }
 },
 "nbformat": 4,
 "nbformat_minor": 2
}
