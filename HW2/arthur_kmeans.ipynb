{
 "cells": [
  {
   "cell_type": "code",
   "execution_count": 40,
   "metadata": {},
   "outputs": [
    {
     "name": "stdout",
     "output_type": "stream",
     "text": [
      "[[2 4]\n",
      " [1 2]]\n"
     ]
    },
    {
     "data": {
      "text/plain": [
       "array([[13.45362405, 14.14213562, 17.02938637, 12.72792206],\n",
       "       [14.2126704 , 14.86606875, 17.69180601, 13.45362405],\n",
       "       [14.86606875, 15.55634919, 18.43908891, 14.14213562],\n",
       "       [15.        , 15.62049935, 18.38477631, 14.2126704 ],\n",
       "       [12.20655562, 12.80624847, 15.55634919, 11.40175425],\n",
       "       [11.40175425, 12.20655562, 15.26433752, 10.81665383],\n",
       "       [13.        , 13.41640786, 15.8113883 , 12.08304597],\n",
       "       [11.3137085 , 12.04159458, 15.        , 10.63014581],\n",
       "       [10.63014581, 11.3137085 , 14.2126704 ,  9.89949494]])"
      ]
     },
     "execution_count": 40,
     "metadata": {},
     "output_type": "execute_result"
    }
   ],
   "source": [
    "import numpy as np\n",
    "\n",
    "x = np.array(((1,2), (1,1), (0,1), (1,0), (3,2), (1,5), (5,0), (2,4), (3,4)))\n",
    "y = np.array(((10,12), (11,12), (14,13), (10,11)))\n",
    "l = np.array((1,1,1,2,3,4,1,1,2,2,2,3,2,3,2,3,4))\n",
    "\n",
    "## Pairwise distance\n",
    "def dist(z,w):\n",
    "    dist = np.sqrt(abs(np.sum(np.square(z), axis=-1, keepdims=True) + np.sum(np.square(w), axis=-1) - 2*(np.dot(z, w.T))))\n",
    "    return dist\n",
    "\n",
    "points = np.concatenate((x,y))\n",
    "# print(points)\n",
    "\n",
    "## Initialization of centers\n",
    "k = 2\n",
    "centers = np.random.choice(points.shape[0], k, replace=False)\n",
    "centers = points[centers]\n",
    "print(centers)\n",
    "\n",
    "dist(x,y)"
   ]
  },
  {
   "cell_type": "code",
   "execution_count": 20,
   "metadata": {},
   "outputs": [
    {
     "name": "stdout",
     "output_type": "stream",
     "text": [
      "[[2 4]\n",
      " [3 4]]\n",
      "(2, 2)\n",
      "[2 4]\n",
      "[1 2]\n"
     ]
    }
   ],
   "source": [
    "## KMeans++ initialization\n",
    "\"\"\"\n",
    "    Use the intuition that points further away from each other will probably be better initial centers\n",
    "Return:\n",
    "    self.centers : K x D numpy array, the centers.\n",
    "\"\"\"\n",
    "\n",
    "## I NEED BIGGER DATASET\n",
    "\n",
    "centers = np.random.choice(points.shape[0], int(.01*k), replace=False)"
   ]
  },
  {
   "cell_type": "code",
   "execution_count": 72,
   "metadata": {},
   "outputs": [
    {
     "name": "stdout",
     "output_type": "stream",
     "text": [
      "[1 1 1 1 1 0 1 0 0 0 0 0 0]\n"
     ]
    }
   ],
   "source": [
    "## Assignments\n",
    "\n",
    "d = dist(points, centers)\n",
    "assignments = np.argmin(d, axis=-1)\n",
    "\n",
    "print(assignments)"
   ]
  },
  {
   "cell_type": "code",
   "execution_count": 22,
   "metadata": {},
   "outputs": [
    {
     "name": "stdout",
     "output_type": "stream",
     "text": [
      "[[1.         2.16666667]\n",
      " [8.         7.71428571]]\n"
     ]
    }
   ],
   "source": [
    "## Update centers\n",
    "\n",
    "centroids = np.zeros((k,np.shape(points)[1]))\n",
    "for i in range(k):\n",
    "    cluster_curr = points[np.where(assignments == i)[0]] # Assume all clusters have at least one point assigned\n",
    "    centroids[i] = np.mean(cluster_curr, axis=0)\n",
    "\n",
    "print(centroids)"
   ]
  },
  {
   "cell_type": "code",
   "execution_count": 23,
   "metadata": {},
   "outputs": [
    {
     "name": "stdout",
     "output_type": "stream",
     "text": [
      "314.2619047619047\n",
      "[ 20.83333333 293.42857143]\n"
     ]
    }
   ],
   "source": [
    "## Get loss\n",
    "\n",
    "l = np.zeros(k)\n",
    "for i in range(k):\n",
    "    l[i] = np.sum(np.square(points[np.where(assignments == i)[0]] - centroids[i]))\n",
    "    # l[i] = np.sum(np.square(pw_dist(points[np.where(assignments == i)[0]], centroids[i])))\n",
    "    # l[i] = np.linalg.norm((points[np.where(assignments == i)[0]] - centroids[i]))\n",
    "    \n",
    "loss = np.sum(l)\n",
    "\n",
    "print(loss)\n",
    "print(l)"
   ]
  },
  {
   "cell_type": "code",
   "execution_count": 24,
   "metadata": {},
   "outputs": [
    {
     "name": "stdout",
     "output_type": "stream",
     "text": [
      "centers:  [[ 1.88888889  2.11111111]\n",
      " [11.25       12.        ]]\n",
      "assignments:  [0. 0. 0. 0. 0. 0. 0. 0. 0. 1. 1. 1. 1.]\n",
      "loss:  58.52777777777778\n"
     ]
    }
   ],
   "source": [
    "## Train KMeans\n",
    "\n",
    "### Functions\n",
    "def update_assignment(points, centers):\n",
    "    d = dist(points, centers)\n",
    "    assignments = np.argmin(d, axis=-1)\n",
    "\n",
    "    return assignments\n",
    "\n",
    "def update_centers(k, points, centers, assignments):\n",
    "    for i in range(k):\n",
    "        cluster_curr = points[np.where(assignments == i)[0]] # Assume all clusters have at least one point assigned\n",
    "        centroids[i] = np.mean(cluster_curr, axis=0)\n",
    "\n",
    "    centers = centroids\n",
    "\n",
    "    return centers\n",
    "\n",
    "def get_loss(k, points, assignments, centers):\n",
    "    l = np.zeros(k)\n",
    "    for i in range(k):\n",
    "        l[i] = np.sum(np.square(points[np.where(assignments == i)[0]] - centers[i]))\n",
    "\n",
    "    loss = np.sum(l)\n",
    "\n",
    "    return loss\n",
    "\n",
    "rel_tol = 1e-6\n",
    "max_iters = 100\n",
    "\n",
    "prev_loss = 500\n",
    "\n",
    "for i in range(max_iters):\n",
    "    assignments = update_assignment(points, centers)\n",
    "    centers = update_centers(k, points, centers, assignments)\n",
    "    for j in range(k):\n",
    "        if len(np.where(assignments == j)[0]) == 0:\n",
    "            c = np.random.choice(points.shape[0])\n",
    "            centers[j] = points[c]\n",
    "            assignments = update_assignment(points, centers)\n",
    "\n",
    "\n",
    "    loss = get_loss(k, points, assignments, centers)\n",
    "    dl = abs(loss - prev_loss)/prev_loss\n",
    "    if dl <= rel_tol:\n",
    "        break\n",
    "    else:\n",
    "        prev_loss = loss\n",
    "\n",
    "print(\"centers: \", centers)\n",
    "print(\"assignments: \", assignments)\n",
    "print(\"loss: \", loss)\n"
   ]
  },
  {
   "cell_type": "code",
   "execution_count": null,
   "metadata": {},
   "outputs": [],
   "source": []
  }
 ],
 "metadata": {
  "kernelspec": {
   "display_name": "base",
   "language": "python",
   "name": "python3"
  },
  "language_info": {
   "codemirror_mode": {
    "name": "ipython",
    "version": 3
   },
   "file_extension": ".py",
   "mimetype": "text/x-python",
   "name": "python",
   "nbconvert_exporter": "python",
   "pygments_lexer": "ipython3",
   "version": "3.10.9"
  },
  "orig_nbformat": 4,
  "vscode": {
   "interpreter": {
    "hash": "e38bdacfe1d6e2b7e20a64d2eef782d7715e4314dc541be72f500d3c69b94a4f"
   }
  }
 },
 "nbformat": 4,
 "nbformat_minor": 2
}
