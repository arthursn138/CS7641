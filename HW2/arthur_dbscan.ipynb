{
 "cells": [
  {
   "cell_type": "code",
   "execution_count": 55,
   "metadata": {},
   "outputs": [
    {
     "data": {
      "text/plain": [
       "10"
      ]
     },
     "execution_count": 55,
     "metadata": {},
     "output_type": "execute_result"
    }
   ],
   "source": [
    "import numpy as np\n",
    "\n",
    "## Pairwise distance\n",
    "def dist(z,w):\n",
    "    dist = np.sqrt(abs(np.sum(np.square(z), axis=-1, keepdims=True) + np.sum(np.square(w), axis=-1) - 2*(np.dot(z, w.T))))\n",
    "    return dist\n",
    "\n",
    "# Params and data from localtests.py\n",
    "eps = 0.2\n",
    "minPts = 3\n",
    "x = np.array([[4.44921468, 0.99067444],\n",
    "    [0.96302552, 1.79996854],\n",
    "    [4.28865161, 1.07127892],\n",
    "    [0.93103109, 2.09965384],\n",
    "    [0.87714783, 2.20467543],\n",
    "    [4.31595483, 1.05237385],\n",
    "    [0.82344716, 2.14171114],\n",
    "    [4.20605954, 1.16302588],\n",
    "    [4.34484718, 0.96594819],\n",
    "    [0.81225409, 2.08657429]])\n",
    "\n",
    "# ## Neighborhood test:\n",
    "# neighborhood = self.dbscan.regionQuery(8)\n",
    "# correct_neighborhood = [0, 2, 5, 8]\n",
    "x.shape[0]"
   ]
  },
  {
   "cell_type": "code",
   "execution_count": 31,
   "metadata": {},
   "outputs": [
    {
     "name": "stdout",
     "output_type": "stream",
     "text": [
      "Neighborhood of  0  is:  [0 2 5 8]\n",
      "Neighborhood of  1  is:  [1]\n",
      "Neighborhood of  2  is:  [0 2 5 7 8]\n",
      "Neighborhood of  3  is:  [3 4 6 9]\n",
      "Neighborhood of  4  is:  [3 4 6 9]\n",
      "Neighborhood of  5  is:  [0 2 5 7 8]\n",
      "Neighborhood of  6  is:  [3 4 6 9]\n",
      "Neighborhood of  7  is:  [2 5 7]\n",
      "Neighborhood of  8  is:  [0 2 5 8]\n",
      "Neighborhood of  9  is:  [3 4 6 9]\n",
      "[1 2 3 4]\n"
     ]
    },
    {
     "data": {
      "text/plain": [
       "range(0, 3)"
      ]
     },
     "execution_count": 31,
     "metadata": {},
     "output_type": "execute_result"
    }
   ],
   "source": [
    "## regionQuery\n",
    "\n",
    "def regionQuery(pointIndex):\n",
    "    indices = np.ndarray.flatten(np.argwhere(dist(x[pointIndex],x) <= eps))\n",
    "    return indices\n",
    "\n",
    "\n",
    "for i in range(x.shape[0]):\n",
    "    a = regionQuery(i)\n",
    "    print(\"Neighborhood of \", i, \" is: \", a)\n",
    "\n",
    "v=np.array((1,2,3,4,4))\n",
    "np.where(v==0)\n",
    "np.array_equal(np.array((1,2,3,4,4)), v)\n",
    "\n",
    "b = {3,2,4,1,4}\n",
    "print(np.array(list(b)))\n",
    "c = np.array(list(b))\n",
    "np.shape(c)\n",
    "np.size(np.where(c==999))"
   ]
  },
  {
   "cell_type": "code",
   "execution_count": 59,
   "metadata": {},
   "outputs": [
    {
     "name": "stdout",
     "output_type": "stream",
     "text": [
      "i =  3\n",
      "neighbors:  [3 4 6 9]\n",
      "visited:  {3}\n",
      "shape of visited:  1\n",
      "i =  3\n",
      "neighbors:  [3 4 6 9]\n",
      "visited:  {3, 4}\n",
      "shape of visited:  2\n",
      "i =  3\n",
      "neighbors:  [3 4 6 9]\n",
      "visited:  {3, 4, 6}\n",
      "shape of visited:  3\n",
      "=========================\n",
      "After:  [3 4 6 9]\n",
      "visitedIndices =  {9, 3, 4, 6}\n",
      "cluster_idx:  [-1. -1. -1.  0.  0. -1.  0. -1. -1.  0.]\n"
     ]
    },
    {
     "data": {
      "text/plain": [
       "4"
      ]
     },
     "execution_count": 59,
     "metadata": {},
     "output_type": "execute_result"
    }
   ],
   "source": [
    "## expandCluster\n",
    "\n",
    "cluster_idx = -np.ones((10)) # Initializes all points as noise\n",
    "\n",
    "index = 9   # Test around this point\n",
    "C = 0       # Current cluster\n",
    "visitedIndices = set()\n",
    "cluster_idx[index] = C\n",
    "neighborIndices = regionQuery(index)\n",
    "\n",
    "# print(\"before the func: \", neighborIndices)\n",
    "\n",
    "def expandCluster(index, neighborIndices, C, cluster_idx, visitedIndices):\n",
    "    cond = True\n",
    "    while cond:\n",
    "        for j in neighborIndices:\n",
    "            if np.size(np.where(np.sort(np.array(list(visitedIndices)) == j))) == 0:\n",
    "                visitedIndices.add(j)\n",
    "                neighborsPrime = regionQuery(j)\n",
    "                if neighborsPrime.size >= minPts:\n",
    "                    neighborIndices = np.unique(np.sort(np.concatenate((neighborIndices, neighborsPrime), axis=None)))\n",
    "\n",
    "            if cluster_idx[j] == -1:\n",
    "                cluster_idx[j] = C\n",
    "\n",
    "                # print(\"i = \", index)\n",
    "                # print(\"neighbors: \", neighborIndices)\n",
    "                # print(\"visited: \", visitedIndices)\n",
    "                # print(\"shape of visited: \", np.shape(np.array(list(visitedIndices)))[0])\n",
    "\n",
    "        if np.array_equal(neighborIndices, np.sort(np.array(list(visitedIndices)))):\n",
    "            cond = False\n",
    "        \n",
    "        elif np.array_equal(x.shape[0], np.shape(np.array(list(visitedIndices)))[0]):\n",
    "            cond = False\n",
    "    \n",
    "    return neighborIndices, visitedIndices, cluster_idx\n",
    "\n",
    "index = 3\n",
    "expandCluster(index, neighborIndices, C, cluster_idx, visitedIndices)\n",
    "\n",
    "print(\"=========================\")\n",
    "print(\"After: \", neighborIndices)\n",
    "print('visitedIndices = ', visitedIndices)\n",
    "print('cluster_idx: ', cluster_idx)\n",
    "np.shape(np.array(list(visitedIndices)))[0]"
   ]
  },
  {
   "cell_type": "code",
   "execution_count": 60,
   "metadata": {},
   "outputs": [
    {
     "name": "stdout",
     "output_type": "stream",
     "text": [
      "i =  0\n",
      "neighbors:  [0 2 5 8]\n",
      "visited:  {0}\n",
      "shape of visited:  1\n",
      "i =  0\n",
      "neighbors:  [0 2 5 7 8]\n",
      "visited:  {0, 2}\n",
      "shape of visited:  2\n",
      "i =  0\n",
      "neighbors:  [0 2 5 7 8]\n",
      "visited:  {0, 2, 5}\n",
      "shape of visited:  3\n",
      "i =  0\n",
      "neighbors:  [0 2 5 7 8]\n",
      "visited:  {0, 8, 2, 5}\n",
      "shape of visited:  4\n",
      "i =  0\n",
      "neighbors:  [0 2 5 7 8]\n",
      "visited:  {0, 2, 5, 7, 8}\n",
      "shape of visited:  5\n",
      "i =  3\n",
      "neighbors:  [3 4 6 9]\n",
      "visited:  {0, 1, 2, 3, 5, 7, 8}\n",
      "shape of visited:  7\n",
      "i =  3\n",
      "neighbors:  [3 4 6 9]\n",
      "visited:  {0, 1, 2, 3, 4, 5, 7, 8}\n",
      "shape of visited:  8\n",
      "i =  3\n",
      "neighbors:  [3 4 6 9]\n",
      "visited:  {0, 1, 2, 3, 4, 5, 6, 7, 8}\n",
      "shape of visited:  9\n",
      "i =  3\n",
      "neighbors:  [3 4 6 9]\n",
      "visited:  {0, 1, 2, 3, 4, 5, 6, 7, 8, 9}\n",
      "shape of visited:  10\n",
      "[ 0. -1.  0.  1.  1.  0.  1.  0.  0.  1.]\n"
     ]
    }
   ],
   "source": [
    "## fit\n",
    "\n",
    "\"\"\"Fits DBSCAN to dataset and hyperparameters defined in init().\n",
    "    Args:\n",
    "        None\n",
    "    Return:\n",
    "        cluster_idx: (N, ) int numpy array of assignment of clusters for each point in dataset\n",
    "    Hint: Using sets for visitedIndices may be helpful here.\n",
    "    Iterate through the dataset sequentially and keep track of your points' cluster assignments.\n",
    "    If a point is unvisited or is a noise point (has fewer than the minimum number of neighbor points), then its cluster assignment should be -1.\n",
    "    Set the first cluster as C = 0 \n",
    "\"\"\"\n",
    "\n",
    "# def fit(eps, minPts, x):\n",
    "cluster_idx = -np.ones((10)) # Initializes all points as unvisited/noise\n",
    "visitedIndices = set()\n",
    "C = 0   # Initialize the first cluster as 0\n",
    "for i in range(x.shape[0]):\n",
    "    index = i\n",
    "    # print(\"i = \", i)\n",
    "    # print(\"is i in visited already? \", np.size(np.where(np.array(list(visitedIndices)) == i)))\n",
    "    if np.size(np.where(np.sort(np.array(list(visitedIndices)) == i))) == 0:\n",
    "        visitedIndices.add(i)\n",
    "        # print(\"visited: \", visitedIndices)\n",
    "        neighborPts = regionQuery(i)\n",
    "        # print(\"neighbors of \", i, \" : \", neighborPts)\n",
    "        if np.size(neighborPts) >= minPts:\n",
    "            # print(\"current cluster: \", C)\n",
    "            expandCluster(index, neighborPts, C, cluster_idx, visitedIndices)\n",
    "            # print(\"cluster index when i = \", i, \" :\", cluster_idx)\n",
    "            C += 1\n",
    "\n",
    "    # print(\"index \", i, \" completed\")\n",
    "    # print(\"visited updated: \", visitedIndices)\n",
    "    # print(\"neighbors of i: \", neighborPts)\n",
    "    # print(\"current cluster: \", C)\n",
    "    # print(\"cluster index: \", cluster_idx)\n",
    "\n",
    "print(cluster_idx)\n"
   ]
  }
 ],
 "metadata": {
  "kernelspec": {
   "display_name": "base",
   "language": "python",
   "name": "python3"
  },
  "language_info": {
   "codemirror_mode": {
    "name": "ipython",
    "version": 3
   },
   "file_extension": ".py",
   "mimetype": "text/x-python",
   "name": "python",
   "nbconvert_exporter": "python",
   "pygments_lexer": "ipython3",
   "version": "3.10.9"
  },
  "orig_nbformat": 4,
  "vscode": {
   "interpreter": {
    "hash": "e38bdacfe1d6e2b7e20a64d2eef782d7715e4314dc541be72f500d3c69b94a4f"
   }
  }
 },
 "nbformat": 4,
 "nbformat_minor": 2
}
