{
 "cells": [
  {
   "cell_type": "code",
   "execution_count": 28,
   "metadata": {},
   "outputs": [],
   "source": [
    "import numpy as np\n",
    "\n",
    "## Pairwise distance\n",
    "def dist(z,w):\n",
    "    dist = np.sqrt(abs(np.sum(np.square(z), axis=-1, keepdims=True) + np.sum(np.square(w), axis=-1) - 2*(np.dot(z, w.T))))\n",
    "    return dist\n",
    "\n",
    "# Params and data from localtests.py\n",
    "eps = 0.2\n",
    "minPts = 3\n",
    "x = np.array([[4.44921468, 0.99067444],\n",
    "    [0.96302552, 1.79996854],\n",
    "    [4.28865161, 1.07127892],\n",
    "    [0.93103109, 2.09965384],\n",
    "    [0.87714783, 2.20467543],\n",
    "    [4.31595483, 1.05237385],\n",
    "    [0.82344716, 2.14171114],\n",
    "    [4.20605954, 1.16302588],\n",
    "    [4.34484718, 0.96594819],\n",
    "    [0.81225409, 2.08657429]])\n",
    "\n",
    "# ## Neighborhood test:\n",
    "# neighborhood = self.dbscan.regionQuery(8)\n",
    "# correct_neighborhood = [0, 2, 5, 8]"
   ]
  },
  {
   "cell_type": "code",
   "execution_count": 29,
   "metadata": {},
   "outputs": [
    {
     "name": "stdout",
     "output_type": "stream",
     "text": [
      "Neighborhood of  0  is:  [0 2 5 8]\n",
      "Neighborhood of  1  is:  [1]\n",
      "Neighborhood of  2  is:  [0 2 5 7 8]\n",
      "Neighborhood of  3  is:  [3 4 6 9]\n",
      "Neighborhood of  4  is:  [3 4 6 9]\n",
      "Neighborhood of  5  is:  [0 2 5 7 8]\n",
      "Neighborhood of  6  is:  [3 4 6 9]\n",
      "Neighborhood of  7  is:  [2 5 7]\n",
      "Neighborhood of  8  is:  [0 2 5 8]\n",
      "Neighborhood of  9  is:  [3 4 6 9]\n",
      "[1 2 3 4]\n"
     ]
    },
    {
     "data": {
      "text/plain": [
       "0"
      ]
     },
     "execution_count": 29,
     "metadata": {},
     "output_type": "execute_result"
    }
   ],
   "source": [
    "## regionQuery\n",
    "\n",
    "def regionQuery(pointIndex):\n",
    "    indices = np.ndarray.flatten(np.argwhere(dist(x[pointIndex],x) <= eps))\n",
    "    return indices\n",
    "\n",
    "\n",
    "for i in range(x.shape[0]):\n",
    "    a = regionQuery(i)\n",
    "    print(\"Neighborhood of \", i, \" is: \", a)\n",
    "\n",
    "v=np.array((1,2,3,4,4))\n",
    "np.where(v==0)\n",
    "np.array_equal(np.array((1,2,3,4,4)), v)\n",
    "\n",
    "b = {3,2,4,1,4}\n",
    "print(np.array(list(b)))\n",
    "c = np.array(list(b))\n",
    "np.shape(c)\n",
    "np.size(np.where(c==999))"
   ]
  },
  {
   "cell_type": "code",
   "execution_count": 39,
   "metadata": {},
   "outputs": [
    {
     "data": {
      "text/plain": [
       "(array([0, 2, 5, 7, 8], dtype=int64),\n",
       " {0, 2, 5, 7, 8},\n",
       " array([ 0., -1.,  0., -1., -1.,  0., -1.,  0.,  0., -1.]))"
      ]
     },
     "execution_count": 39,
     "metadata": {},
     "output_type": "execute_result"
    }
   ],
   "source": [
    "## expandCluster\n",
    "\n",
    "cluster_idx = -np.ones((10)) # Initializes all points as noise\n",
    "\n",
    "index = 0   # Test around this point\n",
    "C = 0       # Current cluster\n",
    "visitedIndices = set()\n",
    "cluster_idx[index] = C\n",
    "neighborIndices = regionQuery(index)\n",
    "\n",
    "# print(\"before the func: \", neighborIndices)\n",
    "\n",
    "def expandCluster(index, neighborIndices, C, cluster_idx, visitedIndices):\n",
    "    cond = True\n",
    "    while cond:\n",
    "        for j in neighborIndices:\n",
    "            if np.size(np.where(np.array(list(visitedIndices)) == j)) == 0:\n",
    "                visitedIndices.add(j)\n",
    "                neighborsPrime = regionQuery(j)\n",
    "                if neighborsPrime.size >= minPts:\n",
    "                    neighborIndices = np.unique(np.sort(np.concatenate((neighborIndices, neighborsPrime), axis=None)))\n",
    "\n",
    "            if cluster_idx[j] == -1:\n",
    "                cluster_idx[j] = C\n",
    "\n",
    "        if np.array_equal(neighborIndices, np.array(list(visitedIndices))):\n",
    "            cond = False\n",
    "    \n",
    "    return neighborIndices, visitedIndices, cluster_idx\n",
    "\n",
    "index = 3\n",
    "expandCluster(index, neighborIndices, C, cluster_idx, visitedIndices)\n",
    "\n",
    "# print(\"=========================\")\n",
    "# print(\"After: \", neighborIndices)\n",
    "# print('visitedIndices = ', visitedIndices)\n",
    "# print('cluster_idx: ', cluster_idx)"
   ]
  },
  {
   "cell_type": "code",
   "execution_count": 31,
   "metadata": {},
   "outputs": [
    {
     "name": "stdout",
     "output_type": "stream",
     "text": [
      "i =  0\n",
      "visited:  {0}\n",
      "neighbors of  0  :  [0 2 5 8]\n",
      "current cluster:  0\n",
      "visited updated:  {0, 2, 5, 7, 8}\n",
      "i =  1\n",
      "visited:  {0, 1, 2, 5, 7, 8}\n",
      "neighbors of  1  :  [1]\n",
      "visited updated:  {0, 1, 2, 5, 7, 8}\n",
      "i =  2\n",
      "visited updated:  {0, 1, 2, 5, 7, 8}\n",
      "i =  3\n",
      "visited:  {0, 1, 2, 3, 5, 7, 8}\n",
      "neighbors of  3  :  [3 4 6 9]\n",
      "current cluster:  1\n"
     ]
    },
    {
     "ename": "KeyboardInterrupt",
     "evalue": "",
     "output_type": "error",
     "traceback": [
      "\u001b[1;31m---------------------------------------------------------------------------\u001b[0m",
      "\u001b[1;31mAttributeError\u001b[0m                            Traceback (most recent call last)",
      "File \u001b[1;32mc:\\Users\\arthu\\anaconda3\\envs\\ml_hw2\\lib\\site-packages\\numpy\\core\\fromnumeric.py:3200\u001b[0m, in \u001b[0;36msize\u001b[1;34m(a, axis)\u001b[0m\n\u001b[0;32m   3199\u001b[0m \u001b[39mtry\u001b[39;00m:\n\u001b[1;32m-> 3200\u001b[0m     \u001b[39mreturn\u001b[39;00m a\u001b[39m.\u001b[39;49msize\n\u001b[0;32m   3201\u001b[0m \u001b[39mexcept\u001b[39;00m \u001b[39mAttributeError\u001b[39;00m:\n",
      "\u001b[1;31mAttributeError\u001b[0m: 'tuple' object has no attribute 'size'",
      "\nDuring handling of the above exception, another exception occurred:\n",
      "\u001b[1;31mKeyboardInterrupt\u001b[0m                         Traceback (most recent call last)",
      "Cell \u001b[1;32mIn[31], line 29\u001b[0m\n\u001b[0;32m     27\u001b[0m \u001b[39mif\u001b[39;00m np\u001b[39m.\u001b[39msize(neighborPts) \u001b[39m>\u001b[39m\u001b[39m=\u001b[39m minPts:\n\u001b[0;32m     28\u001b[0m     \u001b[39mprint\u001b[39m(\u001b[39m\"\u001b[39m\u001b[39mcurrent cluster: \u001b[39m\u001b[39m\"\u001b[39m, C)\n\u001b[1;32m---> 29\u001b[0m     expandCluster(index, neighborPts, C, cluster_idx, visitedIndices)\n\u001b[0;32m     30\u001b[0m     \u001b[39m# print(\"cluster index: \", cluster_idx)\u001b[39;00m\n\u001b[0;32m     31\u001b[0m     C \u001b[39m+\u001b[39m\u001b[39m=\u001b[39m \u001b[39m1\u001b[39m\n",
      "Cell \u001b[1;32mIn[30], line 17\u001b[0m, in \u001b[0;36mexpandCluster\u001b[1;34m(index, neighborIndices, C, cluster_idx, visitedIndices)\u001b[0m\n\u001b[0;32m     15\u001b[0m \u001b[39mwhile\u001b[39;00m cond:\n\u001b[0;32m     16\u001b[0m     \u001b[39mfor\u001b[39;00m j \u001b[39min\u001b[39;00m neighborIndices:\n\u001b[1;32m---> 17\u001b[0m         \u001b[39mif\u001b[39;00m np\u001b[39m.\u001b[39;49msize(np\u001b[39m.\u001b[39;49mwhere(np\u001b[39m.\u001b[39;49marray(\u001b[39mlist\u001b[39;49m(visitedIndices)) \u001b[39m==\u001b[39;49m j)) \u001b[39m==\u001b[39m \u001b[39m0\u001b[39m:\n\u001b[0;32m     18\u001b[0m             visitedIndices\u001b[39m.\u001b[39madd(j)\n\u001b[0;32m     19\u001b[0m             neighborsPrime \u001b[39m=\u001b[39m regionQuery(j)\n",
      "File \u001b[1;32m<__array_function__ internals>:180\u001b[0m, in \u001b[0;36msize\u001b[1;34m(*args, **kwargs)\u001b[0m\n",
      "File \u001b[1;32mc:\\Users\\arthu\\anaconda3\\envs\\ml_hw2\\lib\\site-packages\\numpy\\core\\fromnumeric.py:3202\u001b[0m, in \u001b[0;36msize\u001b[1;34m(a, axis)\u001b[0m\n\u001b[0;32m   3200\u001b[0m         \u001b[39mreturn\u001b[39;00m a\u001b[39m.\u001b[39msize\n\u001b[0;32m   3201\u001b[0m     \u001b[39mexcept\u001b[39;00m \u001b[39mAttributeError\u001b[39;00m:\n\u001b[1;32m-> 3202\u001b[0m         \u001b[39mreturn\u001b[39;00m asarray(a)\u001b[39m.\u001b[39msize\n\u001b[0;32m   3203\u001b[0m \u001b[39melse\u001b[39;00m:\n\u001b[0;32m   3204\u001b[0m     \u001b[39mtry\u001b[39;00m:\n",
      "\u001b[1;31mKeyboardInterrupt\u001b[0m: "
     ]
    }
   ],
   "source": [
    "## fit\n",
    "\n",
    "\"\"\"Fits DBSCAN to dataset and hyperparameters defined in init().\n",
    "    Args:\n",
    "        None\n",
    "    Return:\n",
    "        cluster_idx: (N, ) int numpy array of assignment of clusters for each point in dataset\n",
    "    Hint: Using sets for visitedIndices may be helpful here.\n",
    "    Iterate through the dataset sequentially and keep track of your points' cluster assignments.\n",
    "    If a point is unvisited or is a noise point (has fewer than the minimum number of neighbor points), then its cluster assignment should be -1.\n",
    "    Set the first cluster as C = 0 \n",
    "\"\"\"\n",
    "\n",
    "# def fit(eps, minPts, x):\n",
    "cluster_idx = -np.ones((10)) # Initializes all points as unvisited/noise\n",
    "visitedIndices = set()\n",
    "C = 0   # Initialize the first cluster as 0\n",
    "for i in range(x.shape[0]):\n",
    "    index = i\n",
    "    print(\"i = \", i)\n",
    "    # print(\"is i in visited already? \", np.size(np.where(np.array(list(visitedIndices)) == i)))\n",
    "    if np.size(np.where(np.array(list(visitedIndices)) == i)) == 0:\n",
    "        visitedIndices.add(i)\n",
    "        print(\"visited: \", visitedIndices)\n",
    "        neighborPts = regionQuery(i)\n",
    "        print(\"neighbors of \", i, \" : \", neighborPts)\n",
    "        if np.size(neighborPts) >= minPts:\n",
    "            print(\"current cluster: \", C)\n",
    "            expandCluster(index, neighborPts, C, cluster_idx, visitedIndices)\n",
    "            # print(\"cluster index: \", cluster_idx)\n",
    "            C += 1\n",
    "\n",
    "    # print(\"index \", i, \" completed\")\n",
    "    print(\"visited updated: \", visitedIndices)\n",
    "    # print(\"neighbors of i: \", neighborPts)\n",
    "    # print(\"current cluster: \", C)\n",
    "    # print(\"cluster index: \", cluster_idx)\n",
    "\n",
    "print(cluster_idx)\n"
   ]
  }
 ],
 "metadata": {
  "kernelspec": {
   "display_name": "base",
   "language": "python",
   "name": "python3"
  },
  "language_info": {
   "codemirror_mode": {
    "name": "ipython",
    "version": 3
   },
   "file_extension": ".py",
   "mimetype": "text/x-python",
   "name": "python",
   "nbconvert_exporter": "python",
   "pygments_lexer": "ipython3",
   "version": "3.10.9"
  },
  "orig_nbformat": 4,
  "vscode": {
   "interpreter": {
    "hash": "e38bdacfe1d6e2b7e20a64d2eef782d7715e4314dc541be72f500d3c69b94a4f"
   }
  }
 },
 "nbformat": 4,
 "nbformat_minor": 2
}
