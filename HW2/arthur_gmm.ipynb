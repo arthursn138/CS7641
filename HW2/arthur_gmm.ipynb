{
 "cells": [
  {
   "cell_type": "code",
   "execution_count": 18,
   "metadata": {},
   "outputs": [
    {
     "name": "stdout",
     "output_type": "stream",
     "text": [
      "[[0.10782656 0.04982049 0.78844897 0.05390398]\n",
      " [0.16080479 0.70138883 0.05805256 0.07975382]\n",
      " [0.39637071 0.23624673 0.0996817  0.26770086]\n",
      " [0.21741805 0.56913777 0.05890126 0.15454293]\n",
      " [0.27040961 0.54778227 0.01886611 0.16294201]]\n"
     ]
    }
   ],
   "source": [
    "import numpy as np\n",
    "from tqdm import tqdm\n",
    "from hw2_code.kmeans import KMeans\n",
    "\n",
    "# data = np.random.randn(5, 4)\n",
    "# data[:, 1] = np.array((1,0.5,1,-1,0.641))\n",
    "data = np.array([[0.10782656, 0.04982049, 0.78844897, 0.05390398],\n",
    "                [0.16080479, 0.70138883, 0.05805256, 0.07975382],\n",
    "                [0.39637071, 0.23624673, 0.0996817 , 0.26770086],\n",
    "                [0.21741805, 0.56913777, 0.05890126, 0.15454293],\n",
    "                [0.27040961, 0.54778227, 0.01886611, 0.16294201]])\n",
    "\n",
    "# data[4] = np.zeros((1,4))\n",
    "\n",
    "# data = np.resize(np.arange(20), (5,4))\n",
    "\n",
    "print(data)"
   ]
  },
  {
   "cell_type": "code",
   "execution_count": 92,
   "metadata": {},
   "outputs": [
    {
     "data": {
      "text/plain": [
       "array([1.16114174e+14, 5.97440918e+10, 5.83938679e+10, 1.08309693e+10,\n",
       "       4.43424352e+10])"
      ]
     },
     "execution_count": 92,
     "metadata": {},
     "output_type": "execute_result"
    }
   ],
   "source": [
    "### Helper functions\n",
    "\"\"\"\n",
    "logit is N x D\n",
    "\"\"\"\n",
    "logit = data\n",
    "\n",
    "## softmax\n",
    "def softmax(logit):\n",
    "    prob = np.exp(logit - np.max(logit, axis=-1, keepdims=True)) / np.sum(np.exp(logit - np.max(logit, axis=-1, keepdims=True)), axis=-1, keepdims=True)\n",
    "    return prob\n",
    "\n",
    "prob = softmax(logit)\n",
    "\n",
    "## logsumexp\n",
    "def logsumexp(logit):\n",
    "    s = np.log(np.sum(np.exp(logit - np.max(logit, axis=-1, keepdims=True)), axis=-1, keepdims=True)) + np.max(logit, axis=-1, keepdims=True)\n",
    "    return s\n",
    "\n",
    "s = logsumexp(logit)\n",
    "\n",
    "## multinormalPDF\n",
    "\n",
    "SIGMA_CONST = 1e-6\n",
    "mu_i = data.mean(axis=0)\n",
    "sigma_i = np.cov(data, rowvar=False)\n",
    "points = data\n",
    "\n",
    "def multinormalPDF(points, mu_i, sigma_i):\n",
    "    D = mu_i.shape[0]\n",
    "    try:\n",
    "        inv = np.linalg.inv(sigma_i)\n",
    "    except np.linalg.LinAlgError:\n",
    "        inv = np.linalg.inv(sigma_i + SIGMA_CONST)\n",
    "\n",
    "    semi = (points - mu_i) @ inv\n",
    "    NN =  np.sum((-0.5 * (semi.T * (points - mu_i).T)), axis=0)\n",
    "    normal_pdf = (1/((2*np.pi) ** (D/2))) * (np.linalg.det(sigma_i) ** (-0.5)) * np.exp(NN)\n",
    "    return normal_pdf\n",
    "\n",
    "multinormalPDF(points, mu_i, sigma_i)"
   ]
  },
  {
   "cell_type": "code",
   "execution_count": 95,
   "metadata": {},
   "outputs": [
    {
     "data": {
      "text/plain": [
       "array([[-4.77436642, -5.18640082, -4.77436642],\n",
       "       [-5.25511398, -4.78751119, -5.25511398],\n",
       "       [-5.09342739, -4.85302055, -5.09342739],\n",
       "       [-5.18640082, -4.77436642, -5.18640082],\n",
       "       [-5.21363955, -4.77683518, -5.21363955]])"
      ]
     },
     "execution_count": 95,
     "metadata": {},
     "output_type": "execute_result"
    }
   ],
   "source": [
    "### Initialization and log-likelihood\n",
    "\n",
    "N = data.shape[0]\n",
    "D = data.shape[1]\n",
    "K = 3\n",
    "\n",
    "## __init_components\n",
    "\n",
    "def _init_components(K, D, N, data):\n",
    "\n",
    "    np.random.seed(5) #Do Not Remove Seed\n",
    "\n",
    "    pi = np.ones((K, 1)) / K\n",
    "    mu = np.ones((K, D))\n",
    "    for i in range(K):\n",
    "        mu[i] = data[int(np.random.uniform(0, N-1))] # sei lá pq N-1, mas eu tentei do nadão e funcionou\n",
    "    sigma = np.ones((K, D, D)) * np.eye(D)\n",
    "\n",
    "    return pi, mu, sigma\n",
    "\n",
    "pi, mu, sigma = _init_components(K, D, N, data)\n",
    "\n",
    "\n",
    "## _ll_joint\n",
    "FULL_MATRIX = True\n",
    "LOG_CONST = 1e-32\n",
    "\n",
    "def _ll_joint(pi, mu, sigma, full_matrix=FULL_MATRIX, **kwargs):\n",
    "# === graduate implementation\n",
    "    if full_matrix is True:\n",
    "        pi, mu, sigma = _init_components(K, D, N, points)\n",
    "\n",
    "        ll = np.ones((N, K))\n",
    "        for i in range(N):\n",
    "            for k in range(K):\n",
    "                pdf = multinormalPDF(points[i], mu[k], sigma[k])\n",
    "                ll[i,k] = np.log( pi[k] + LOG_CONST ) + np.log( pdf + LOG_CONST )\n",
    "\n",
    "    return ll\n",
    "\n",
    "_ll_joint(pi, mu, sigma)\n",
    "\n",
    "\n",
    "## E-step"
   ]
  }
 ],
 "metadata": {
  "kernelspec": {
   "display_name": "ml_hw2",
   "language": "python",
   "name": "python3"
  },
  "language_info": {
   "codemirror_mode": {
    "name": "ipython",
    "version": 3
   },
   "file_extension": ".py",
   "mimetype": "text/x-python",
   "name": "python",
   "nbconvert_exporter": "python",
   "pygments_lexer": "ipython3",
   "version": "3.10.9"
  },
  "orig_nbformat": 4
 },
 "nbformat": 4,
 "nbformat_minor": 2
}
