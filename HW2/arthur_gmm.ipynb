{
 "cells": [
  {
   "cell_type": "code",
   "execution_count": 86,
   "metadata": {},
   "outputs": [
    {
     "name": "stdout",
     "output_type": "stream",
     "text": [
      "[[ 1.82366458  1.         -1.42115534  0.73791448]\n",
      " [ 0.20193604  0.5         0.21541547 -1.23314324]\n",
      " [ 1.09646068  1.          0.93855823  1.20121923]\n",
      " [ 0.13167614 -1.         -0.21449997  0.61133227]\n",
      " [ 0.03488984  0.641       1.36107806 -0.60164955]]\n"
     ]
    }
   ],
   "source": [
    "import numpy as np\n",
    "from tqdm import tqdm\n",
    "from hw2_code.kmeans import KMeans\n",
    "\n",
    "data = np.random.randn(5, 4)\n",
    "data[:, 1] = np.array((1,0.5,1,-1,0.641))\n",
    "# data = np.array([[0.10782656, 0.04982049, 0.78844897, 0.05390398],\n",
    "#                 [0.16080479, 0.70138883, 0.05805256, 0.07975382],\n",
    "#                 [0.39637071, 0.23624673, 0.0996817 , 0.26770086],\n",
    "#                 [0.21741805, 0.56913777, 0.05890126, 0.15454293],\n",
    "#                 [0.27040961, 0.54778227, 0.01886611, 0.16294201]])\n",
    "\n",
    "print(data)"
   ]
  },
  {
   "cell_type": "code",
   "execution_count": 87,
   "metadata": {},
   "outputs": [
    {
     "data": {
      "text/plain": [
       "array([2.01504784, 2.01504784, 2.01504784, 2.01504784, 2.01504784])"
      ]
     },
     "execution_count": 87,
     "metadata": {},
     "output_type": "execute_result"
    }
   ],
   "source": [
    "### Helper functions\n",
    "\"\"\"\n",
    "logit is N x D\n",
    "\"\"\"\n",
    "logit = data\n",
    "\n",
    "## softmax\n",
    "def softmax(logit):\n",
    "    prob = np.exp(logit - np.max(logit)) / np.sum(np.exp(logit - np.max(logit)), axis=-1, keepdims=True)\n",
    "    return prob\n",
    "\n",
    "softmax(logit)\n",
    "\n",
    "## logsumexp\n",
    "def logsumexp(logit):\n",
    "    s = np.sum(np.exp(logit + np.max(logit)), axis=-1, keepdims=True)\n",
    "    return s\n",
    "\n",
    "logsumexp(logit)\n",
    "\n",
    "## multinormalPDF\n",
    "\"\"\"\n",
    "Args:\n",
    "    points: N x D numpy array\n",
    "    mu_i: (D,) numpy array, the center for the ith gaussian.\n",
    "    sigma_i: DxD numpy array, the covariance matrix of the ith gaussian.\n",
    "Return:\n",
    "    normal_pdf: (N,) numpy array, the probability density value of N data for the ith gaussian\n",
    "\n",
    "Hint:\n",
    "    1. np.linalg.det() and np.linalg.inv() should be handy.\n",
    "    2. The value in self.D may be outdated and not correspond to the current dataset,\n",
    "    try using another method involving the current arguments to get the value of D\n",
    "\"\"\"\n",
    "SIGMA_CONST = 1e-6\n",
    "mu_i = data.mean(axis=0)\n",
    "sigma_i = np.cov(data, rowvar=False)\n",
    "points = data\n",
    "\n",
    "def multinormalPDF(points, mu_i, sigma_i):\n",
    "    D = mu_i.shape[0]\n",
    "    try:\n",
    "        inv = np.linalg.inv(sigma_i)\n",
    "    except:\n",
    "        inv = np.linalg.inv(sigma_i + SIGMA_CONST)\n",
    "\n",
    "    semi = (points - mu_i) @ inv\n",
    "    NN =  np.sum((-0.5 * (semi @ (semi.T * (points - mu_i).T))), axis=0)\n",
    "    normal_pdf = (1/((2*np.pi) ** (D/2))) * (np.linalg.det(sigma_i) ** (-0.5)) * np.exp(NN)\n",
    "    return normal_pdf\n",
    "\n",
    "# X = np.reshape(np.arange(20), (5,4))\n",
    "# muX = X.mean(axis=0)\n",
    "# print(X)\n",
    "# print(\"muX\", muX)\n",
    "# X-muX\n",
    "\n",
    "multinormalPDF(points, mu_i, sigma_i)"
   ]
  }
 ],
 "metadata": {
  "kernelspec": {
   "display_name": "ml_hw2",
   "language": "python",
   "name": "python3"
  },
  "language_info": {
   "codemirror_mode": {
    "name": "ipython",
    "version": 3
   },
   "file_extension": ".py",
   "mimetype": "text/x-python",
   "name": "python",
   "nbconvert_exporter": "python",
   "pygments_lexer": "ipython3",
   "version": "3.10.9"
  },
  "orig_nbformat": 4
 },
 "nbformat": 4,
 "nbformat_minor": 2
}
