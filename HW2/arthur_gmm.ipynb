{
 "cells": [
  {
   "cell_type": "code",
   "execution_count": 178,
   "metadata": {},
   "outputs": [
    {
     "name": "stdout",
     "output_type": "stream",
     "text": [
      "[[0.10782656 0.04982049 0.78844897 0.05390398]\n",
      " [0.16080479 0.70138883 0.05805256 0.07975382]\n",
      " [0.39637071 0.23624673 0.0996817  0.26770086]\n",
      " [0.21741805 0.56913777 0.05890126 0.15454293]\n",
      " [0.         0.         0.         0.        ]]\n"
     ]
    }
   ],
   "source": [
    "import numpy as np\n",
    "from tqdm import tqdm\n",
    "from hw2_code.kmeans import KMeans\n",
    "\n",
    "# data = np.random.randn(5, 4)\n",
    "# data[:, 1] = np.array((1,0.5,1,-1,0.641))\n",
    "data = np.array([[0.10782656, 0.04982049, 0.78844897, 0.05390398],\n",
    "                [0.16080479, 0.70138883, 0.05805256, 0.07975382],\n",
    "                [0.39637071, 0.23624673, 0.0996817 , 0.26770086],\n",
    "                [0.21741805, 0.56913777, 0.05890126, 0.15454293],\n",
    "                [0.27040961, 0.54778227, 0.01886611, 0.16294201]])\n",
    "\n",
    "# data[4] = np.zeros((1,4))\n",
    "\n",
    "# data = np.resize(np.arange(20), (5,4))\n",
    "\n",
    "print(data)"
   ]
  },
  {
   "cell_type": "code",
   "execution_count": 193,
   "metadata": {},
   "outputs": [
    {
     "name": "stdout",
     "output_type": "stream",
     "text": [
      "[[0.20549678 0.19391585 0.40587806 0.19470932]\n",
      " [0.22019125 0.37807044 0.19868969 0.20304863]\n",
      " [0.28780478 0.24522065 0.21391813 0.25305644]\n",
      " [0.23730538 0.33733199 0.20251846 0.22284417]\n",
      " [0.25       0.25       0.25       0.25      ]]\n",
      "\n",
      "[[1.69015149]\n",
      " [1.67406359]\n",
      " [1.64184359]\n",
      " [1.65582548]\n",
      " [1.38629436]]\n"
     ]
    },
    {
     "name": "stderr",
     "output_type": "stream",
     "text": [
      "C:\\Users\\arthu\\AppData\\Local\\Temp\\ipykernel_11976\\3118478574.py:50: RuntimeWarning: overflow encountered in exp\n",
      "  normal_pdf = (1/((2*np.pi) ** (D/2))) * (np.linalg.det(sigma_i) ** (-0.5)) * np.exp(NN)\n"
     ]
    }
   ],
   "source": [
    "### Helper functions\n",
    "\"\"\"\n",
    "logit is N x D\n",
    "\"\"\"\n",
    "logit = data\n",
    "\n",
    "## softmax\n",
    "def softmax(logit):\n",
    "    prob = np.exp(logit - np.max(logit, axis=-1, keepdims=True)) / np.sum(np.exp(logit - np.max(logit, axis=-1, keepdims=True)), axis=-1, keepdims=True)\n",
    "    return prob\n",
    "\n",
    "prob = softmax(logit)\n",
    "\n",
    "## logsumexp\n",
    "def logsumexp(logit):\n",
    "    s = np.log(np.sum(np.exp(logit - np.max(logit, axis=-1, keepdims=True)), axis=-1, keepdims=True)) + np.max(logit, axis=-1, keepdims=True)\n",
    "    return s\n",
    "\n",
    "s = logsumexp(logit)\n",
    "\n",
    "## multinormalPDF\n",
    "\"\"\"\n",
    "Args:\n",
    "    points: N x D numpy array\n",
    "    mu_i: (D,) numpy array, the center for the ith gaussian.\n",
    "    sigma_i: DxD numpy array, the covariance matrix of the ith gaussian.\n",
    "Return:\n",
    "    normal_pdf: (N,) numpy array, the probability density value of N data for the ith gaussian\n",
    "\n",
    "Hint:\n",
    "    1. np.linalg.det() and np.linalg.inv() should be handy.\n",
    "    2. The value in self.D may be outdated and not correspond to the current dataset,\n",
    "    try using another method involving the current arguments to get the value of D\n",
    "\"\"\"\n",
    "SIGMA_CONST = 1e-6\n",
    "mu_i = data.mean(axis=0)\n",
    "sigma_i = np.cov(data, rowvar=False)\n",
    "points = data\n",
    "\n",
    "def multinormalPDF(points, mu_i, sigma_i):\n",
    "    D = mu_i.shape[0]\n",
    "    try:\n",
    "        inv = np.linalg.inv(sigma_i)\n",
    "    except np.linalg.LinAlgError:\n",
    "        inv = np.linalg.inv(sigma_i + SIGMA_CONST)\n",
    "\n",
    "    semi = (points - mu_i) @ inv\n",
    "    # NN =  np.sum((-0.5 * (semi @ (semi.T * (points - mu_i).T))), axis=0) # TÔ CONFUSO SE É PRA SER 1XN OU NXN (LOCALTEST INDICA QUE É NXN)\n",
    "    NN =  -0.5 * (semi @ (semi.T * (points - mu_i).T))\n",
    "    normal_pdf = (1/((2*np.pi) ** (D/2))) * (np.linalg.det(sigma_i) ** (-0.5)) * np.exp(NN)\n",
    "    return normal_pdf\n",
    "\n",
    "mnpdf = multinormalPDF(points, mu_i, sigma_i)\n",
    "\n",
    "# mnpdf.shape\n",
    "print(prob)\n",
    "print()\n",
    "print(s)"
   ]
  },
  {
   "cell_type": "code",
   "execution_count": 174,
   "metadata": {},
   "outputs": [],
   "source": [
    "### Initialization and log-likelihood\n",
    "\n",
    "N = data.shape[0]\n",
    "D = data.shape[1]\n",
    "K = 3\n",
    "\n",
    "## __init_components\n",
    "\n",
    "def _init_components(K, D, N, data):\n",
    "\n",
    "    np.random.seed(5) #Do Not Remove Seed\n",
    "\n",
    "    pi = np.ones((5, 1)) / K\n",
    "    mu = np.ones((K, D))\n",
    "    for i in range(K):\n",
    "        mu[i] = data[int(np.random.uniform(0, N-1))] # sei lá pq N-1, mas eu tentei do nadão e funcionou\n",
    "    sigma = np.ones((K, D, D)) * np.eye(D)\n",
    "\n",
    "    return pi, mu, sigma\n",
    "\n",
    "pi, mu, sigma = _init_components(K, D, N, data)\n",
    "# print(mu)\n",
    "# print(mu.shape)\n",
    "\n",
    "## _ll_joint"
   ]
  }
 ],
 "metadata": {
  "kernelspec": {
   "display_name": "ml_hw2",
   "language": "python",
   "name": "python3"
  },
  "language_info": {
   "codemirror_mode": {
    "name": "ipython",
    "version": 3
   },
   "file_extension": ".py",
   "mimetype": "text/x-python",
   "name": "python",
   "nbconvert_exporter": "python",
   "pygments_lexer": "ipython3",
   "version": "3.10.9"
  },
  "orig_nbformat": 4
 },
 "nbformat": 4,
 "nbformat_minor": 2
}
