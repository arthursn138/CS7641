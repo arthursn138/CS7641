{
 "cells": [
  {
   "cell_type": "code",
   "execution_count": 2,
   "metadata": {},
   "outputs": [],
   "source": [
    "import numpy as np"
   ]
  },
  {
   "cell_type": "code",
   "execution_count": 4,
   "metadata": {},
   "outputs": [
    {
     "name": "stdout",
     "output_type": "stream",
     "text": [
      "0\n",
      "1\n",
      "2\n",
      "3\n",
      "4\n",
      "5\n",
      "6\n",
      "7\n",
      "8\n",
      "9\n",
      "10\n",
      "11\n",
      "12\n",
      "13\n",
      "14\n",
      "15\n",
      "16\n",
      "17\n",
      "18\n",
      "19\n",
      "20\n",
      "21\n",
      "22\n",
      "23\n",
      "24\n",
      "25\n",
      "26\n",
      "27\n",
      "28\n",
      "29\n",
      "30\n",
      "31\n",
      "32\n",
      "33\n",
      "34\n",
      "35\n",
      "36\n",
      "37\n",
      "38\n",
      "39\n",
      "40\n",
      "41\n",
      "42\n",
      "43\n",
      "44\n",
      "45\n",
      "46\n",
      "47\n",
      "48\n",
      "49\n"
     ]
    }
   ],
   "source": [
    "## Leaky_Relu\n",
    "u = np.array([\n",
    "    [1.76405235,  0.40015721,  0.97873798,  2.2408932,   1.86755799, -0.97727788],\n",
    "    [0.95008842, -0.15135721, -0.10321885,  0.4105985,   0.14404357,  1.45427351],\n",
    "    [0.76103773,  0.12167502,  0.44386323,  0.33367433,  1.49407907, -0.20515826],\n",
    "    [0.3130677,  -0.85409574, -2.55298982,  0.6536186,   0.8644362,  -0.74216502],\n",
    "    [2.26975462, -1.45436567,  0.04575852, -0.18718385,  1.53277921,  1.46935877]\n",
    "    ])\n",
    "\n",
    "truth = np.array([\n",
    "    [ 1.76405235,  0.40015721,  0.97873798,  2.2408932 ,  1.86755799, -0.04886389],\n",
    "    [ 0.95008842, -0.00756786, -0.00516094,  0.4105985 ,  0.14404357,  1.45427351],\n",
    "    [ 0.76103773,  0.12167502,  0.44386323,  0.33367433,  1.49407907, -0.01025791],\n",
    "    [ 0.3130677 , -0.04270479, -0.12764949,  0.6536186 ,  0.8644362 , -0.03710825],\n",
    "    [ 2.26975462, -0.07271828,  0.04575852, -0.00935919,  1.53277921,  1.46935877]\n",
    "    ])\n",
    "\n",
    "o = np.copy(u)\n",
    "o = np.where(o > 0, o, 0.05*o)\n",
    "\n",
    "# print(o)\n",
    "# print(0.05*u[0,5])\n",
    "# o==truth\n",
    "\n",
    "## dropout\n",
    "p = 0.1\n",
    "\n",
    "mask = np.random.choice([0, 1], size=u.shape, p=[p, 1-p])\n",
    "u * mask / (1-p)\n",
    "\n",
    "## compute_gradients\n",
    "a = np.ones((3,4))\n",
    "np.sum(a)\n",
    "\n",
    "## gradient_descent\n",
    "for i in range(50):\n",
    "    print(i)"
   ]
  }
 ],
 "metadata": {
  "kernelspec": {
   "display_name": "ml_hw4",
   "language": "python",
   "name": "python3"
  },
  "language_info": {
   "codemirror_mode": {
    "name": "ipython",
    "version": 3
   },
   "file_extension": ".py",
   "mimetype": "text/x-python",
   "name": "python",
   "nbconvert_exporter": "python",
   "pygments_lexer": "ipython3",
   "version": "3.10.10"
  },
  "orig_nbformat": 4
 },
 "nbformat": 4,
 "nbformat_minor": 2
}
